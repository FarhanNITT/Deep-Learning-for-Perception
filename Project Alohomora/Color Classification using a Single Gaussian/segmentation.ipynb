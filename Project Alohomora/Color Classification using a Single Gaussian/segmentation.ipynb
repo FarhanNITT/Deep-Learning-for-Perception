{
 "cells": [
  {
   "cell_type": "code",
   "execution_count": 7,
   "id": "972bd71c",
   "metadata": {},
   "outputs": [],
   "source": [
    "import cv2\n",
    "import matplotlib\n",
    "import matplotlib.pyplot as plt\n",
    "from roipoly import RoiPoly\n",
    "import numpy as np\n",
    "import os\n",
    "matplotlib.use('TkAgg') \n",
    "import pickle\n",
    "\n",
    "with open('RGB_values_all_classes_2.pkl', 'rb') as file:\n",
    "    loaded_RGB_values_all_classes = pickle.load(file)\n",
    "    \n",
    "    \n",
    "loaded_RGB_values_all_classes[0]['mean']=loaded_RGB_values_all_classes[0]['mean'].tolist()\n",
    "loaded_RGB_values_all_classes[1]['mean']=loaded_RGB_values_all_classes[1]['mean'].tolist()\n",
    "loaded_RGB_values_all_classes[2]['mean']=loaded_RGB_values_all_classes[2]['mean'].tolist()\n",
    "loaded_RGB_values_all_classes[3]['mean']=loaded_RGB_values_all_classes[3]['mean'].tolist()\n",
    "\n",
    "loaded_RGB_values_all_classes[0]['covariance']=loaded_RGB_values_all_classes[0]['covariance'].tolist()\n",
    "loaded_RGB_values_all_classes[1]['covariance']=loaded_RGB_values_all_classes[1]['covariance'].tolist()\n",
    "loaded_RGB_values_all_classes[2]['covariance']=loaded_RGB_values_all_classes[2]['covariance'].tolist()\n",
    "loaded_RGB_values_all_classes[3]['covariance']=loaded_RGB_values_all_classes[3]['covariance'].tolist()\n",
    "\n"
   ]
  },
  {
   "cell_type": "code",
   "execution_count": 8,
   "id": "c9a55e93",
   "metadata": {},
   "outputs": [],
   "source": [
    "from scipy.stats import multivariate_normal\n",
    "\n",
    "def applyGaussianToImage(image,mean,covariance):\n",
    "    \n",
    "    # converting image to double precision\n",
    "    double_img = image.astype(np.float64)\n",
    "    \n",
    "    #reshaping image to a matrix containing all pixel rgb values (3)\n",
    "    \n",
    "    image_pixels=double_img.reshape(-1,3) # -1 indicates taking in account everything .. here all pixels\n",
    "    \n",
    "    #computing PDF for each pixel using multivariate Gaussian\n",
    "    \n",
    "    pdf_val = multivariate_normal.pdf(image_pixels, mean=mean, cov=covariance)  # this fucntion is part of scipy.stats module hence we import it\n",
    "    \n",
    "    \n",
    "    # reshaping pdf values to image dimension\n",
    "    \n",
    "    pdf = pdf_val.reshape(image.shape[:2])\n",
    "   \n",
    "    return pdf\n",
    "    "
   ]
  },
  {
   "cell_type": "code",
   "execution_count": 38,
   "id": "9a1ac5ee",
   "metadata": {},
   "outputs": [
    {
     "data": {
      "text/plain": [
       "[102.20189138845107, 91.94512107751827, 36.32275397621436]"
      ]
     },
     "execution_count": 38,
     "metadata": {},
     "output_type": "execute_result"
    }
   ],
   "source": [
    "loaded_RGB_values_all_classes[0]['mean']"
   ]
  },
  {
   "cell_type": "code",
   "execution_count": 39,
   "id": "8000a73e",
   "metadata": {},
   "outputs": [
    {
     "data": {
      "text/plain": [
       "[[1776.905142227365, 1543.8576089993228, 671.5659869094384],\n",
       " [1543.8576089993228, 1494.6333712649844, 1036.6501561614803],\n",
       " [671.5659869094384, 1036.6501561614803, 1812.5155114521149]]"
      ]
     },
     "execution_count": 39,
     "metadata": {},
     "output_type": "execute_result"
    }
   ],
   "source": [
    "loaded_RGB_values_all_classes[0]['covariance']\n"
   ]
  },
  {
   "cell_type": "code",
   "execution_count": 10,
   "id": "af02b174",
   "metadata": {},
   "outputs": [],
   "source": [
    "\n",
    "image_folder = 'data'\n",
    "\n",
    "output_folder = 'segmented_images'\n",
    "os.makedirs(output_folder, exist_ok=True)"
   ]
  },
  {
   "cell_type": "code",
   "execution_count": 11,
   "id": "6f6e1914",
   "metadata": {},
   "outputs": [],
   "source": [
    "\n",
    "for class_index in range(4):\n",
    "    mean =  loaded_RGB_values_all_classes[class_index]['mean']\n",
    "    covariance = loaded_RGB_values_all_classes[class_index]['covariance']\n",
    "    \n",
    "    # Let's save all segmented images of each class in a separate folder\n",
    "    class_folder = os.path.join(output_folder, f'class_{class_index}')\n",
    "    os.makedirs(class_folder, exist_ok=True)\n",
    "\n",
    "    for i in range(1, 8):  # Loop from index 1 to 7\n",
    "        filename= f'{i}.jpg'  \n",
    "    \n",
    "        image_path = os.path.join(image_folder, filename)  # constructing file path\n",
    "   \n",
    "        image=cv2.imread(image_path)\n",
    "\n",
    "    \n",
    "        gauss_image=applyGaussianToImage(image,mean,covariance)\n",
    "    \n",
    "        mask = gauss_image>1e-6   # return is Boolean and for opencv we need integer hence mask data type is converted\n",
    "    \n",
    "        final_image = cv2.bitwise_and(image, image, mask=mask.astype(np.uint8))\n",
    "        \n",
    "        # Save the segmented image\n",
    "        output_filename = f'{i}.jpg'\n",
    "        output_path = os.path.join(class_folder, output_filename)\n",
    "        cv2.imwrite(output_path, final_image)\n",
    "    \n",
    "#         cv2.imshow(f'Segmented Image {i}', final_image)\n",
    "#         cv2.waitKey(0)\n",
    "#         cv2.destroyAllWindows()"
   ]
  },
  {
   "cell_type": "code",
   "execution_count": 12,
   "id": "a91922f1",
   "metadata": {},
   "outputs": [],
   "source": [
    "# preparing output image grid\n",
    "\n",
    "\n",
    "image_folder = 'data'\n",
    "output_folder = 'segmented_images'\n",
    "\n",
    "# Prepare the grid (7 rows, 5 columns)\n",
    "fig, axes = plt.subplots(nrows=7, ncols=5, figsize=(20, 28))\n",
    "\n",
    "# Process each image (1 to 7)\n",
    "for i in range(7):  # Loop from 0 to 6\n",
    "    # Load the original image\n",
    "    filename = f'{i + 1}.jpg'\n",
    "    image_path = os.path.join(image_folder, filename)\n",
    "    original_image = cv2.imread(image_path)\n",
    "    original_image = cv2.cvtColor(original_image, cv2.COLOR_BGR2RGB)  # Convert BGR to RGB for displaying\n",
    "    \n",
    "    # Display the original image in the first column\n",
    "    axes[i, 0].imshow(original_image)\n",
    "    axes[i, 0].set_title(f'Original Image {i}')\n",
    "    axes[i, 0].axis('off')\n",
    "    \n",
    "    # Display the segmented images for each class in the subsequent columns\n",
    "    for class_index in range(4):  # Loop from 0 to 3\n",
    "        class_folder = os.path.join(output_folder, f'class_{class_index}')\n",
    "        segmented_image_path = os.path.join(class_folder, filename)\n",
    "        segmented_image = cv2.imread(segmented_image_path)\n",
    "        segmented_image = cv2.cvtColor(segmented_image, cv2.COLOR_BGR2RGB)  # Convert BGR to RGB for displaying\n",
    "        \n",
    "        axes[i, class_index + 1].imshow(segmented_image)\n",
    "        axes[i, class_index + 1].set_title(f'Class {class_index + 1}')\n",
    "        axes[i, class_index + 1].axis('off')\n",
    "\n",
    "# Adjust layout to prevent overlap\n",
    "plt.tight_layout()\n",
    "\n",
    "# Save the grid image\n",
    "output_path = os.path.join(output_folder, 'segmentation_grid2.png')\n",
    "plt.savefig(output_path, bbox_inches='tight', dpi=300)\n",
    "\n",
    "# Display the grid\n",
    "plt.show()\n"
   ]
  }
 ],
 "metadata": {
  "kernelspec": {
   "display_name": "Python 3 (ipykernel)",
   "language": "python",
   "name": "python3"
  },
  "language_info": {
   "codemirror_mode": {
    "name": "ipython",
    "version": 3
   },
   "file_extension": ".py",
   "mimetype": "text/x-python",
   "name": "python",
   "nbconvert_exporter": "python",
   "pygments_lexer": "ipython3",
   "version": "3.9.7"
  }
 },
 "nbformat": 4,
 "nbformat_minor": 5
}
