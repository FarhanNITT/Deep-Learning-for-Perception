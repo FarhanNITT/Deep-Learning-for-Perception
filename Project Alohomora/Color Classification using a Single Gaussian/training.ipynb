{
 "cells": [
  {
   "cell_type": "code",
   "execution_count": 12,
   "id": "e9baacdc",
   "metadata": {},
   "outputs": [],
   "source": [
    "import cv2\n",
    "import matplotlib\n",
    "import matplotlib.pyplot as plt\n",
    "from roipoly import RoiPoly\n",
    "import numpy as np\n",
    "import os\n",
    "matplotlib.use('TkAgg') \n",
    "import pickle"
   ]
  },
  {
   "cell_type": "code",
   "execution_count": 13,
   "id": "c8c4ce9e",
   "metadata": {},
   "outputs": [],
   "source": [
    "def masking(image):\n",
    "    image = cv2.cvtColor(image, cv2.COLOR_BGR2RGB)  # Convert BGR to RGB for display\n",
    "    \n",
    "    plt.imshow(image)\n",
    "    plt.title(\"Select ROI\")\n",
    "    plt.show()\n",
    "    \n",
    "    roi = RoiPoly(color='k')  # Draw ROI on the image\n",
    "\n",
    "\n",
    "    roi.display_roi()\n",
    "    plt.imshow(image)\n",
    "    plt.title(\"Selected ROI\")\n",
    "    plt.show()\n",
    "\n",
    "    mask = roi.get_mask(np.zeros((image.shape[0], image.shape[1])))\n",
    "\n",
    "    \n",
    "    return mask\n",
    "\n",
    "def rgb_values(image, mask):\n",
    "    masked_image = cv2.bitwise_and(image, image, mask=mask.astype(np.uint8))\n",
    "    rgb_values = masked_image[mask > 0]#255 to match the filled mask value value will be either 0 or 255\n",
    "    return rgb_values\n"
   ]
  },
  {
   "cell_type": "code",
   "execution_count": 14,
   "id": "80adfbd2",
   "metadata": {},
   "outputs": [
    {
     "name": "stdout",
     "output_type": "stream",
     "text": [
      "Class 0: Mean = [106.63672708  94.17643923  32.87277896], Covariance = [[1560.86038001 1352.87485207  588.0772806 ]\n",
      " [1352.87485207 1306.65904857  909.4419068 ]\n",
      " [ 588.0772806   909.4419068  1629.0898107 ]]\n",
      "Class 1: Mean = [ 73.25169909 188.15438247 204.9961917 ], Covariance = [[ 790.10785145  720.97449891  389.93568644]\n",
      " [ 720.97449891 1429.83185107 1296.97410411]\n",
      " [ 389.93568644 1296.97410411 1386.63143801]]\n",
      "Class 2: Mean = [172.01582116 102.57507046  18.72918268], Covariance = [[3138.57530537 1908.27147253    6.09665568]\n",
      " [1908.27147253 1263.5897135   268.53291896]\n",
      " [   6.09665568  268.53291896  772.00031929]]\n",
      "Class 3: Mean = [ 56.05070757  40.34222307 183.50626949], Covariance = [[ 508.61068507  675.36501924  776.15218993]\n",
      " [ 675.36501924  971.0770165  1002.83959673]\n",
      " [ 776.15218993 1002.83959673 1896.04938041]]\n"
     ]
    }
   ],
   "source": [
    "# obtaining mask of all classes \n",
    "image_folder = 'data'\n",
    "\n",
    "RGB_values_all_classes = []\n",
    "\n",
    "for class_index in range(0, 4):\n",
    "    \n",
    "    RGB_values_img = []\n",
    "    \n",
    "    for i in range(1, 8):  # Loop from index 1 to 7\n",
    "        filename= f'{i}.jpg'  \n",
    "    \n",
    "        image_path = os.path.join(image_folder, filename)  # constructing file path\n",
    "        image=cv2.imread(image_path)\n",
    "    \n",
    "        mask = masking(image)\n",
    "        \n",
    "\n",
    "\n",
    "        rgb_values_img=rgb_values(image,mask)\n",
    "    \n",
    "    \n",
    "        RGB_values_img.extend(rgb_values_img.tolist())\n",
    "    \n",
    "\n",
    "    \n",
    "    \n",
    "    RGB_values_array =np.array(RGB_values_img)\n",
    "\n",
    "    mean= np.mean(RGB_values_array, axis=0)\n",
    "    covariance=np.cov(RGB_values_array,rowvar=False)\n",
    "    \n",
    "    RGB_values_all_classes.append({\n",
    "        'class': class_index,\n",
    "        'mean': mean,\n",
    "        'covariance': covariance\n",
    "    })\n",
    "    \n",
    "    print(f\"Class {class_index}: Mean = {mean}, Covariance = {covariance}\")\n",
    "\n",
    "# Load image\n",
    "\n",
    "\n",
    "with open('RGB_values_all_classes_2.pkl', 'wb') as file:\n",
    "    pickle.dump(RGB_values_all_classes, file)\n",
    "\n",
    "\n",
    "# mask = masking(image)\n",
    "\n",
    "# blue_val = rgb_values(image,mask)\n",
    "\n",
    "# # Apply the mask to the original image\n",
    "# segmented_image = cv2.bitwise_and(image, image, mask=mask.astype(np.uint8))\n",
    "\n",
    "# # # Display the segmented image\n",
    "# plt.imshow(segmented_image)\n",
    "# plt.title(\"Segmented Image\")\n",
    "# plt.show()"
   ]
  },
  {
   "cell_type": "code",
   "execution_count": null,
   "id": "25c2a20a",
   "metadata": {},
   "outputs": [],
   "source": [
    "\n"
   ]
  }
 ],
 "metadata": {
  "kernelspec": {
   "display_name": "Python 3 (ipykernel)",
   "language": "python",
   "name": "python3"
  },
  "language_info": {
   "codemirror_mode": {
    "name": "ipython",
    "version": 3
   },
   "file_extension": ".py",
   "mimetype": "text/x-python",
   "name": "python",
   "nbconvert_exporter": "python",
   "pygments_lexer": "ipython3",
   "version": "3.9.7"
  }
 },
 "nbformat": 4,
 "nbformat_minor": 5
}
